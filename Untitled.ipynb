{
 "cells": [
  {
   "cell_type": "markdown",
   "id": "f2a3454b",
   "metadata": {},
   "source": [
    "# Python Day 1"
   ]
  },
  {
   "cell_type": "markdown",
   "id": "0561170b",
   "metadata": {},
   "source": [
    "Good evening this is Python Class!!!"
   ]
  },
  {
   "cell_type": "code",
   "execution_count": 1,
   "id": "dc40fb72",
   "metadata": {},
   "outputs": [
    {
     "data": {
      "text/plain": [
       "'Doc String i.e Mutli-line comment'"
      ]
     },
     "execution_count": 1,
     "metadata": {},
     "output_type": "execute_result"
    }
   ],
   "source": [
    "#Comment\n",
    "#Indentitation\n",
    "#General Syntacs\n",
    "#Variable\n",
    "#Single Line Comment\n",
    "\"\"\"Doc String i.e Mutli-line comment\"\"\"\n"
   ]
  },
  {
   "cell_type": "markdown",
   "id": "aa2b4dd9",
   "metadata": {},
   "source": [
    "# Indentation "
   ]
  },
  {
   "cell_type": "code",
   "execution_count": 2,
   "id": "8b748264",
   "metadata": {},
   "outputs": [
    {
     "name": "stdout",
     "output_type": "stream",
     "text": [
      "Good Evening, I need cofee\n",
      "Am hungry\n"
     ]
    }
   ],
   "source": [
    "print(\"Good Evening, I need cofee\")\n",
    "print(\"Am hungry\")"
   ]
  },
  {
   "cell_type": "code",
   "execution_count": 3,
   "id": "77241f71",
   "metadata": {},
   "outputs": [
    {
     "name": "stdout",
     "output_type": "stream",
     "text": [
      "1\n",
      "2\n",
      "3\n",
      "4\n",
      "5\n",
      "6\n",
      "7\n",
      "8\n",
      "9\n",
      "10\n",
      "11\n",
      "12\n",
      "13\n",
      "14\n",
      "15\n",
      "16\n",
      "17\n",
      "18\n",
      "19\n"
     ]
    }
   ],
   "source": [
    "for i in range(1,20):\n",
    " print(i)"
   ]
  },
  {
   "cell_type": "markdown",
   "id": "6f9d19cd",
   "metadata": {},
   "source": [
    "# General Syntax"
   ]
  },
  {
   "cell_type": "code",
   "execution_count": 4,
   "id": "2e8db785",
   "metadata": {},
   "outputs": [
    {
     "name": "stdout",
     "output_type": "stream",
     "text": [
      "The weather is too cold, I need hot tea\n"
     ]
    }
   ],
   "source": [
    "print('The weather is too cold, I need hot tea')"
   ]
  },
  {
   "cell_type": "code",
   "execution_count": 5,
   "id": "9c87beec",
   "metadata": {},
   "outputs": [
    {
     "name": "stdout",
     "output_type": "stream",
     "text": [
      " I love coding, Its good to be\n",
      "a programer or Data Expert.\n",
      "There is alot of \n",
      "benefit in Coding\n"
     ]
    }
   ],
   "source": [
    "print(\"\"\" I love coding, Its good to be\n",
    "a programer or Data Expert.\n",
    "There is alot of \n",
    "benefit in Coding\"\"\")"
   ]
  },
  {
   "cell_type": "code",
   "execution_count": 6,
   "id": "4623cf05",
   "metadata": {},
   "outputs": [
    {
     "name": "stdout",
     "output_type": "stream",
     "text": [
      "It is correct\n"
     ]
    }
   ],
   "source": [
    "if 10==10:\n",
    "    print(\"It is correct\")"
   ]
  },
  {
   "cell_type": "markdown",
   "id": "9cef8a29",
   "metadata": {},
   "source": [
    "# storing Multi values in multi variables "
   ]
  },
  {
   "cell_type": "code",
   "execution_count": 7,
   "id": "58d80133",
   "metadata": {},
   "outputs": [
    {
     "name": "stdout",
     "output_type": "stream",
     "text": [
      "Laptop Bag\n"
     ]
    }
   ],
   "source": [
    "item1,item2,item3=\"Laptop\",\"Laptop Bag\",\"Laptop Charger\"\n",
    "print(item2)"
   ]
  },
  {
   "cell_type": "code",
   "execution_count": 8,
   "id": "dbf57c21",
   "metadata": {},
   "outputs": [
    {
     "name": "stdout",
     "output_type": "stream",
     "text": [
      "Laptop Charger\n"
     ]
    }
   ],
   "source": [
    "print(item3)"
   ]
  },
  {
   "cell_type": "code",
   "execution_count": 9,
   "id": "3b5a8eac",
   "metadata": {},
   "outputs": [
    {
     "name": "stdout",
     "output_type": "stream",
     "text": [
      "Laptop\n"
     ]
    }
   ],
   "source": [
    "print(item1)"
   ]
  },
  {
   "cell_type": "code",
   "execution_count": 10,
   "id": "ac3f0a6a",
   "metadata": {},
   "outputs": [
    {
     "name": "stdout",
     "output_type": "stream",
     "text": [
      "I am a Nigerian\n"
     ]
    }
   ],
   "source": [
    "Gbenga=Abdulahi=Tola=Mobolaji=\"I am a Nigerian\"\n",
    "print(Abdulahi)"
   ]
  },
  {
   "cell_type": "code",
   "execution_count": 11,
   "id": "5f2e7c57",
   "metadata": {},
   "outputs": [
    {
     "name": "stdout",
     "output_type": "stream",
     "text": [
      "I am a Nigerian\n"
     ]
    }
   ],
   "source": [
    "print(Tola)"
   ]
  },
  {
   "cell_type": "code",
   "execution_count": 12,
   "id": "e56fb495",
   "metadata": {},
   "outputs": [
    {
     "name": "stdout",
     "output_type": "stream",
     "text": [
      "I am a Nigerian\n"
     ]
    }
   ],
   "source": [
    "print(Mobolaji)"
   ]
  },
  {
   "cell_type": "code",
   "execution_count": 13,
   "id": "02aa8be3",
   "metadata": {},
   "outputs": [
    {
     "name": "stdout",
     "output_type": "stream",
     "text": [
      "I am a Nigerian\n"
     ]
    }
   ],
   "source": [
    "print(Gbenga)"
   ]
  },
  {
   "cell_type": "markdown",
   "id": "c404505e",
   "metadata": {},
   "source": [
    "# Unpacking Variables"
   ]
  },
  {
   "cell_type": "code",
   "execution_count": 14,
   "id": "a3dfbca6",
   "metadata": {},
   "outputs": [
    {
     "name": "stdout",
     "output_type": "stream",
     "text": [
      "yam\n"
     ]
    }
   ],
   "source": [
    "food_items=['gari','beans','yam','rice']\n",
    "\n",
    "food1,food2,food3,food4 = food_items\n",
    "\n",
    "print(food3)"
   ]
  },
  {
   "cell_type": "code",
   "execution_count": 15,
   "id": "f42a185b",
   "metadata": {},
   "outputs": [
    {
     "name": "stdout",
     "output_type": "stream",
     "text": [
      "rice is my favorite food\n"
     ]
    }
   ],
   "source": [
    "print(food4,\"is my favorite food\")"
   ]
  },
  {
   "cell_type": "code",
   "execution_count": 16,
   "id": "2b2fe8b6",
   "metadata": {},
   "outputs": [
    {
     "name": "stdout",
     "output_type": "stream",
     "text": [
      "W\n",
      "i\n",
      "l\n",
      "s\n"
     ]
    }
   ],
   "source": [
    "name=\"Wilson\"\n",
    "\n",
    "leta1,leta2,leta3,leta4,leta5,leta6=name\n",
    "\n",
    "# print(leta1)\n",
    "\n",
    "manu,chelsea,arsenal,madrid,mancity,toteham = name\n",
    "\n",
    "print(manu)\n",
    "print(chelsea)\n",
    "print(arsenal)\n",
    "print(madrid)"
   ]
  },
  {
   "cell_type": "markdown",
   "id": "fad88a38",
   "metadata": {},
   "source": [
    "# Concatenation(+ or ,)"
   ]
  },
  {
   "cell_type": "markdown",
   "id": "939f4d24",
   "metadata": {},
   "source": [
    "\"+\" sign is used when you are combining two variables of the same datatype <br />\n",
    "\",\" sign is used when you are combining two variables of the diffrent datatype"
   ]
  },
  {
   "cell_type": "code",
   "execution_count": 17,
   "id": "e0727c93",
   "metadata": {},
   "outputs": [
    {
     "name": "stdout",
     "output_type": "stream",
     "text": [
      "35\n"
     ]
    }
   ],
   "source": [
    "a=10\n",
    "y=25\n",
    "\n",
    "print(a+y)"
   ]
  },
  {
   "cell_type": "code",
   "execution_count": 18,
   "id": "3d63c2a2",
   "metadata": {},
   "outputs": [
    {
     "name": "stdout",
     "output_type": "stream",
     "text": [
      "2334\n"
     ]
    }
   ],
   "source": [
    "val1 = \"23\"\n",
    "val2= \"34\"\n",
    "print(val1 + val2)"
   ]
  },
  {
   "cell_type": "code",
   "execution_count": 19,
   "id": "701b8003",
   "metadata": {},
   "outputs": [
    {
     "ename": "TypeError",
     "evalue": "can only concatenate str (not \"int\") to str",
     "output_type": "error",
     "traceback": [
      "\u001b[1;31m---------------------------------------------------------------------------\u001b[0m",
      "\u001b[1;31mTypeError\u001b[0m                                 Traceback (most recent call last)",
      "Input \u001b[1;32mIn [19]\u001b[0m, in \u001b[0;36m<cell line: 1>\u001b[1;34m()\u001b[0m\n\u001b[1;32m----> 1\u001b[0m \u001b[38;5;28mprint\u001b[39m(\u001b[43mval1\u001b[49m\u001b[43m \u001b[49m\u001b[38;5;241;43m+\u001b[39;49m\u001b[43m \u001b[49m\u001b[43my\u001b[49m)\n",
      "\u001b[1;31mTypeError\u001b[0m: can only concatenate str (not \"int\") to str"
     ]
    }
   ],
   "source": [
    "print(val1 + y) # + sign can not concatenate two diff data type"
   ]
  },
  {
   "cell_type": "code",
   "execution_count": null,
   "id": "ac5da7a4",
   "metadata": {},
   "outputs": [],
   "source": [
    "print(val1 , y)"
   ]
  },
  {
   "cell_type": "code",
   "execution_count": null,
   "id": "ca0266d9",
   "metadata": {},
   "outputs": [],
   "source": [
    "print(\"he is \"+ val2  + \" \" + \"years old\" )"
   ]
  },
  {
   "cell_type": "markdown",
   "id": "21b48431",
   "metadata": {},
   "source": [
    "# categories of declaring variable\n",
    "+ Local Variable\n",
    "+ Global Variable"
   ]
  },
  {
   "cell_type": "markdown",
   "id": "ad2752a5",
   "metadata": {},
   "source": [
    "# Local Variable"
   ]
  },
  {
   "cell_type": "code",
   "execution_count": null,
   "id": "c0a55698",
   "metadata": {},
   "outputs": [],
   "source": [
    "def localVal():\n",
    "    car=\"Ferari\"\n",
    "    print(\"My best car is \", car)\n",
    "\n",
    "localVal()"
   ]
  },
  {
   "cell_type": "markdown",
   "id": "d99d5c83",
   "metadata": {},
   "source": [
    "# Global Variable"
   ]
  },
  {
   "cell_type": "code",
   "execution_count": null,
   "id": "50a9a80c",
   "metadata": {},
   "outputs": [],
   "source": [
    "day=\"Wednessday\"\n",
    "\n",
    "def myday():\n",
    "    print(\"I do have my Python class on\", day)\n",
    "myday()\n",
    "print(\"Today is \",day)"
   ]
  },
  {
   "cell_type": "markdown",
   "id": "3ce60f70",
   "metadata": {},
   "source": [
    "# Global Keyword"
   ]
  },
  {
   "cell_type": "code",
   "execution_count": null,
   "id": "ffdf6a98",
   "metadata": {},
   "outputs": [],
   "source": [
    "def cal():\n",
    "    global a,b\n",
    "    a=10\n",
    "    b=15\n",
    "    return a*b\n",
    "cal()\n",
    "print(a+b/b)"
   ]
  },
  {
   "cell_type": "code",
   "execution_count": null,
   "id": "74668245",
   "metadata": {},
   "outputs": [],
   "source": [
    "# (a^2*e/100)*y"
   ]
  },
  {
   "cell_type": "code",
   "execution_count": null,
   "id": "629aab24",
   "metadata": {},
   "outputs": [],
   "source": [
    "num= int(230.5)\n",
    "\n",
    "print(num)"
   ]
  },
  {
   "cell_type": "markdown",
   "id": "9a9c7967",
   "metadata": {},
   "source": [
    "# Data Structure"
   ]
  },
  {
   "cell_type": "markdown",
   "id": "7a5f866c",
   "metadata": {},
   "source": [
    "# List"
   ]
  },
  {
   "cell_type": "code",
   "execution_count": null,
   "id": "d94cd4bb",
   "metadata": {},
   "outputs": [],
   "source": [
    "myData=[1,2,3,4,5,6]\n",
    "\n",
    "print(myData)\n",
    "\n",
    "food=['Beans','Rice','Gari']\n",
    "\n",
    "print(food)\n",
    "\n",
    "print(food[1])\n",
    "print(food[0])\n",
    "print(food[2])"
   ]
  },
  {
   "cell_type": "code",
   "execution_count": null,
   "id": "acb46581",
   "metadata": {},
   "outputs": [],
   "source": [
    "#Slicing Explanation \n",
    "items=['belt','Wrist Watch','Ring','Sandal','Bag','Laptop','charger','Pen']\n",
    "\n",
    "print(items[0:3])"
   ]
  },
  {
   "cell_type": "code",
   "execution_count": null,
   "id": "c6dcd7ba",
   "metadata": {},
   "outputs": [],
   "source": [
    "print(items[2:])# print from 2 to the end\n",
    "print(items[2:7])# In this case Pen will not be included\n",
    "#Note Last in the range will be excluded"
   ]
  },
  {
   "cell_type": "code",
   "execution_count": null,
   "id": "4ba76347",
   "metadata": {},
   "outputs": [],
   "source": [
    "print(items[-4])#Print from rear using negative index"
   ]
  },
  {
   "cell_type": "code",
   "execution_count": null,
   "id": "4335d76a",
   "metadata": {},
   "outputs": [],
   "source": [
    "print(items[-4: ])"
   ]
  },
  {
   "cell_type": "code",
   "execution_count": null,
   "id": "487fd39e",
   "metadata": {},
   "outputs": [],
   "source": [
    "#start end step\n",
    "print(items)"
   ]
  },
  {
   "cell_type": "code",
   "execution_count": null,
   "id": "82f8cb67",
   "metadata": {},
   "outputs": [],
   "source": [
    "print(items[0::2])"
   ]
  },
  {
   "cell_type": "markdown",
   "id": "687cd6bf",
   "metadata": {},
   "source": [
    "# Adding Items to the list"
   ]
  },
  {
   "cell_type": "code",
   "execution_count": null,
   "id": "b031de38",
   "metadata": {},
   "outputs": [],
   "source": [
    "\n",
    "#-Append()\n",
    "\n",
    "cars=['Benz','Toyota','lezux','Nissan','Audi','BMW','Ferari']\n",
    "\n",
    "cars.append(\"Volvo\")\n",
    "\n",
    "print(cars)"
   ]
  },
  {
   "cell_type": "code",
   "execution_count": null,
   "id": "f175de2b",
   "metadata": {},
   "outputs": [],
   "source": [
    "#-Insert()\n",
    "# cars.insert(2,'Rover Sport')\n",
    "# print(cars)\n",
    "\n",
    "cars.insert(4,'Ford')\n",
    "print(cars)"
   ]
  },
  {
   "cell_type": "code",
   "execution_count": null,
   "id": "c40f956b",
   "metadata": {},
   "outputs": [],
   "source": [
    "#-Extend \n",
    "names=['Mobolaji','Omotola','Ridwan','Gbengene']\n",
    "otherNames=['Willy','George','Favor','Blessing','Bill','Josh']\n",
    "names.extend(otherNames)\n",
    "print(names)"
   ]
  },
  {
   "cell_type": "markdown",
   "id": "1abae3c0",
   "metadata": {},
   "source": [
    "# Remove from List"
   ]
  },
  {
   "cell_type": "code",
   "execution_count": null,
   "id": "af858078",
   "metadata": {},
   "outputs": [],
   "source": [
    "#-Remove Method\n",
    "\n",
    "names.remove('Bill')\n",
    "print(names)"
   ]
  },
  {
   "cell_type": "code",
   "execution_count": null,
   "id": "8c50e8b6",
   "metadata": {},
   "outputs": [],
   "source": [
    "#-POP()\n",
    "names.pop()\n",
    "print(names)\n",
    "\n",
    "names.pop(3)\n",
    "print(names)"
   ]
  },
  {
   "cell_type": "code",
   "execution_count": null,
   "id": "fa8fe106",
   "metadata": {},
   "outputs": [],
   "source": [
    "#- Del keyword\n",
    "\n",
    "# del names[3]\n",
    "# print(names)\n",
    "\n",
    "#To remove the entire List\n",
    "\n",
    "del names\n",
    "print(names)"
   ]
  },
  {
   "cell_type": "code",
   "execution_count": null,
   "id": "6a5864ff",
   "metadata": {},
   "outputs": [],
   "source": [
    "#Clear() Method\n",
    "\n",
    "# print(cars)\n",
    "\n",
    "cars.clear()\n",
    "print(cars)"
   ]
  },
  {
   "cell_type": "code",
   "execution_count": null,
   "id": "be8db464",
   "metadata": {},
   "outputs": [],
   "source": [
    "car2=['Volks Wagen','Chivrolet','Jagua']\n",
    "cars.extend(car2)\n",
    "print(cars)\n",
    "cars.clear()\n",
    "print(cars)"
   ]
  },
  {
   "cell_type": "markdown",
   "id": "fee3ca96",
   "metadata": {},
   "source": [
    "# List Comprehension"
   ]
  },
  {
   "cell_type": "code",
   "execution_count": null,
   "id": "52fa1c2f",
   "metadata": {},
   "outputs": [],
   "source": [
    "places=[\"Igbona\",\"Oke-fia\",\"Onward\",\"Ring road\"]\n",
    "\n",
    "location=[]\n",
    "\n",
    "for d in places:\n",
    "    location.append(d)\n",
    "print(location)"
   ]
  },
  {
   "cell_type": "code",
   "execution_count": null,
   "id": "884d557c",
   "metadata": {},
   "outputs": [],
   "source": [
    "places=[\"Igbona\",\"Oke-fia\",\"Onward\",\"Ring road\"]\n",
    "location=[ d for d in places ]\n",
    "print(location)"
   ]
  },
  {
   "cell_type": "code",
   "execution_count": null,
   "id": "c0469129",
   "metadata": {},
   "outputs": [],
   "source": [
    "states=[\"Osun\",\"Ogun\",\"Nasarawa\",\"Lagos\",\"Ekiti\"]\n",
    "mainStates=[]\n",
    "\n",
    "for e in states:\n",
    "    mainStates.append(e)\n",
    "print(mainStates)\n",
    "\n",
    "#List Comprehension\n",
    "states1=[\"Osun\",\"Ogun\",\"Nasarawa\",\"Lagos\",\"Ekiti\"]\n",
    "mainStates=[f for f in states1]\n",
    "print(mainStates)\n"
   ]
  },
  {
   "cell_type": "code",
   "execution_count": null,
   "id": "0e30d962",
   "metadata": {},
   "outputs": [],
   "source": [
    "numbers=[num for num in range(1,21)]\n",
    "print(numbers)"
   ]
  },
  {
   "cell_type": "code",
   "execution_count": null,
   "id": "bea2cc23",
   "metadata": {},
   "outputs": [],
   "source": [
    "numbers1=[b for b in range(0,20) if b <10 ]\n",
    "print(numbers1) \n",
    "    \n",
    "numbers2=[]\n",
    "\n",
    "for c in range(0,10):\n",
    "    if c < 5:\n",
    "        numbers2.append(c)\n",
    "print(numbers2)"
   ]
  },
  {
   "cell_type": "markdown",
   "id": "f892d1f5",
   "metadata": {},
   "source": [
    "# SORTING List"
   ]
  },
  {
   "cell_type": "code",
   "execution_count": null,
   "id": "9f41edc2",
   "metadata": {},
   "outputs": [],
   "source": [
    "fruits=['orange','Pineapple','Apple','Banana',\"cashew\"]\n",
    "\n",
    "\n",
    "#Assending Order\n",
    "\n",
    "\n",
    "fruits.sort()\n",
    "print(fruits)\n",
    "num2=[1,4,3,6,7,2,0]\n",
    "num2.sort()\n",
    "print(num2)\n",
    "\n",
    "#Descending Order\n",
    "\n",
    "fruits.sort(reverse = True)\n",
    "print(fruits)\n",
    "\n",
    "# Reverse Method\n",
    "\n",
    "fruits.reverse()\n",
    "print(fruits)\n"
   ]
  },
  {
   "cell_type": "code",
   "execution_count": null,
   "id": "a6e42254",
   "metadata": {},
   "outputs": [],
   "source": [
    "#Sort using string to lower\n",
    "\n",
    "fruits.sort(key = str.lower)\n",
    "print(fruits)"
   ]
  },
  {
   "cell_type": "markdown",
   "id": "8e60bac4",
   "metadata": {},
   "source": [
    "# Copy method"
   ]
  },
  {
   "cell_type": "code",
   "execution_count": null,
   "id": "bffee5f6",
   "metadata": {},
   "outputs": [],
   "source": [
    "courses=['Data Analytics','Web Design','Cyber Security','Graphics']\n",
    "compiled_courses=courses.copy()\n",
    "print(compiled_courses)"
   ]
  },
  {
   "cell_type": "markdown",
   "id": "f85b63da",
   "metadata": {},
   "source": [
    "# How to Join Two or more List together"
   ]
  },
  {
   "cell_type": "code",
   "execution_count": null,
   "id": "ccacfc75",
   "metadata": {},
   "outputs": [],
   "source": [
    "# + sign\n",
    "# append()\n",
    "# Extend()\n",
    "\n",
    "#1. + Sign\n",
    "premierLeague = ['Man-u', 'Chelsea','Arsenal','Aston Vila','Newcastle','Man-City']\n",
    "La_Liga=['Madrid','Bacca','Athletico-madrid','elba','Villeria']\n",
    "football_club=premierLeague + La_Liga\n",
    "print(football_club)\n",
    "\n",
    "print(\"\\n ******** End of + Sign Explanation ************ \\n\")\n",
    "print(\"\\n ******** Beginning of Append() Expanation ************ \\n\")\n",
    "\n",
    "#2. append()\n",
    "seriA=['Ac-miilian','As-Roman','Juventus','Inter-Millan']\n",
    "\n",
    "for z in seriA:\n",
    "    football_club.append(z)\n",
    "    \n",
    "print(football_club)\n",
    "\n",
    "print(\"\\n ******** another method  of using Append() ************ \\n\")\n",
    "      \n",
    "football_club.append(seriA)\n",
    "\n",
    "print(football_club)"
   ]
  },
  {
   "cell_type": "markdown",
   "id": "4b28b618",
   "metadata": {},
   "source": [
    "# Extend Method"
   ]
  },
  {
   "cell_type": "code",
   "execution_count": null,
   "id": "2f2e38d7",
   "metadata": {},
   "outputs": [],
   "source": [
    "food=['Gari','Beans','Rice','Potatoe','Yam']\n",
    "food2=['Semo Vita','Pando Yam','Akpu','Ikokore']\n",
    "\n",
    "food.extend(food2)\n",
    "print(food)\n",
    "\n",
    "for g in food:\n",
    "    print(g)"
   ]
  },
  {
   "cell_type": "markdown",
   "id": "13ab5d06",
   "metadata": {},
   "source": [
    "# list() Constructor"
   ]
  },
  {
   "cell_type": "markdown",
   "id": "ac3740c3",
   "metadata": {},
   "source": [
    "It Can be used for conversion of Data Types"
   ]
  },
  {
   "cell_type": "code",
   "execution_count": null,
   "id": "662b6c1a",
   "metadata": {},
   "outputs": [],
   "source": [
    "myTuple=('cloth','Shoe','Sandal')\n",
    "print(type(myTuple))\n",
    "List_convert=list(myTuple)\n",
    "print(type(List_convert))\n",
    "      \n",
    "myTuple=tuple(List_convert)\n",
    "print(myTuple)\n",
    "print(type(myTuple))"
   ]
  },
  {
   "cell_type": "markdown",
   "id": "1b5d7ef7",
   "metadata": {},
   "source": [
    "# Tuple Datatype"
   ]
  },
  {
   "cell_type": "code",
   "execution_count": null,
   "id": "81f3116a",
   "metadata": {},
   "outputs": [],
   "source": [
    "electronics=('Tv','Sound System','Laptop','Headset','ipod')\n",
    "print(type(electronics))\n",
    "print(electronics[3])\n",
    "print(electronics[1:])#Slicing\n",
    "print(electronics[-2:])#Negative Slicing\n",
    "#step\n",
    "print(electronics[1::2])"
   ]
  },
  {
   "cell_type": "code",
   "execution_count": null,
   "id": "a72f3a53",
   "metadata": {},
   "outputs": [],
   "source": [
    "fruits=('Apple','Orange','Pineapple','Mango')\n",
    "fruits_list=list(fruits)\n",
    "\n",
    "fruits_list[2]='Banana'\n",
    "\n",
    "fruits=tuple(fruits_list)\n",
    "\n",
    "print(fruits)\n",
    "\n",
    "fruits_list=list(fruits)\n",
    "\n",
    "fruits_list.append('Pineapple')\n",
    "fruits=tuple(fruits_list)\n",
    "print(fruits)\n",
    "a,b,c,d,e=fruits\n",
    "print(a)\n",
    "print(b)\n",
    "print(c)\n",
    "print(d)\n",
    "print(e)\n"
   ]
  },
  {
   "cell_type": "code",
   "execution_count": null,
   "id": "e9b72911",
   "metadata": {},
   "outputs": [],
   "source": [
    "States=(\"Osun\",\"Ogun\",\"Lagos\",\"Nasarawa\",\"Delta\",\"Kwara\")\n",
    "re_States=list(States)\n",
    "re_States.remove('Osun')\n",
    "States=tuple(re_States)\n",
    "print(States)\n",
    "\n",
    "cls_States=list(States)\n",
    "# Clear() Method can be used only if you convert tuple to list and after clear() convert back to tuple\n",
    "cls_States.clear()\n",
    "States = tuple(cls_States)\n",
    "print(States)\n",
    "\n",
    "del States\n",
    "\n",
    "print(States)"
   ]
  },
  {
   "cell_type": "markdown",
   "id": "ae258087",
   "metadata": {},
   "source": [
    "# Unpack Tupple"
   ]
  },
  {
   "cell_type": "markdown",
   "id": "d2e27584",
   "metadata": {},
   "source": [
    "Unpack is used to to break items into diffrent or singular variable"
   ]
  },
  {
   "cell_type": "code",
   "execution_count": null,
   "id": "a7ec3478",
   "metadata": {},
   "outputs": [],
   "source": [
    "drinks=(\"White Coffee\",\"Black Coffee\",\"Smoove\",\"Coca-cola\",\"Biggi\")\n",
    "(drink1,drink2,drink3,drink4,drink5) = drinks\n",
    "\n",
    "print(drink1)\n",
    "print(drink2)\n",
    "print(drink3)\n",
    "print(drink4)\n",
    "print(drink5)"
   ]
  },
  {
   "cell_type": "code",
   "execution_count": null,
   "id": "d8792069",
   "metadata": {},
   "outputs": [],
   "source": [
    "itemx = ('Laptop Bag','Charger','Laptop Stand','Mobile Phone','Headset','airpod','Monitor')\n",
    "\n",
    "# Note: Atericks means you want to add multiple items to a particular variable when unpacking tuple e.g.\n",
    "\n",
    "(item1,item2,*item3)=itemx\n",
    "\n",
    "print(item1)\n",
    "print(item2)\n",
    "print(item3)\n",
    "\n",
    "# for tola in itemx:\n",
    "#     print(tola)\n",
    "\n",
    "#Range() and len()\n",
    "\n",
    "for k in range(len(itemx)):\n",
    "    print(itemx[k])\n",
    "    \n"
   ]
  },
  {
   "cell_type": "markdown",
   "id": "d5c19c7c",
   "metadata": {},
   "source": [
    "# Set Datatype"
   ]
  },
  {
   "cell_type": "markdown",
   "id": "e0e89359",
   "metadata": {},
   "source": [
    "Set is unordered, it can store multiple Items just like list and tuple.\n",
    "The Item is enclosed in set using curly braces.{}"
   ]
  },
  {
   "cell_type": "code",
   "execution_count": null,
   "id": "eabcc928",
   "metadata": {},
   "outputs": [],
   "source": [
    "myset = {1,2,3,4,5}\n",
    "print(myset)\n",
    "myset2={\"Apple\",\"Grape\",\"Orange\",\"Mango\"}\n",
    "print(myset2)"
   ]
  },
  {
   "cell_type": "code",
   "execution_count": null,
   "id": "f6b05132",
   "metadata": {},
   "outputs": [],
   "source": [
    "set3={\"Apple\",\"Apple\",\"Banana\",\"tangerine\",\"Pineaple\",\"cashew\"}\n",
    "print(set3)"
   ]
  },
  {
   "cell_type": "markdown",
   "id": "fa1e9b32",
   "metadata": {},
   "source": [
    "Note: 1 is the same thing as True while 0 is the same thing as False"
   ]
  },
  {
   "cell_type": "code",
   "execution_count": null,
   "id": "9d2d8e47",
   "metadata": {},
   "outputs": [],
   "source": [
    "ballSport={'Baskeball','Soccer','football',True,1,False,0}\n",
    "print(ballSport)"
   ]
  },
  {
   "cell_type": "markdown",
   "id": "36ef743c",
   "metadata": {},
   "source": [
    "# How to access element in set()"
   ]
  },
  {
   "cell_type": "code",
   "execution_count": null,
   "id": "8ead9a31",
   "metadata": {},
   "outputs": [],
   "source": [
    "drinks={'Coca-cola','Fanta','Fearless','Smoove','7UP'}\n",
    "\n",
    "for d in drinks:\n",
    "    print(d)"
   ]
  },
  {
   "cell_type": "code",
   "execution_count": null,
   "id": "a26a3322",
   "metadata": {},
   "outputs": [],
   "source": [
    "print('Fanta' in drinks)"
   ]
  },
  {
   "cell_type": "code",
   "execution_count": null,
   "id": "086e9ddf",
   "metadata": {},
   "outputs": [],
   "source": [
    "print('Sweeps' in drinks)"
   ]
  },
  {
   "cell_type": "code",
   "execution_count": null,
   "id": "69f90a46",
   "metadata": {},
   "outputs": [],
   "source": [
    "print('Smoove' not in drinks)"
   ]
  },
  {
   "cell_type": "markdown",
   "id": "b1379f45",
   "metadata": {},
   "source": [
    "# Upadate Set()"
   ]
  },
  {
   "cell_type": "code",
   "execution_count": null,
   "id": "e65cfa7d",
   "metadata": {},
   "outputs": [],
   "source": [
    "#Add() method is used to add element to the set()\n",
    "\n",
    "lga={'Osogbo LGA','Olorunda LGA', 'Irepodun LGA','Oriade LGA'}\n",
    "for l in lga:\n",
    "    print(l)\n",
    "#adding to lga\n",
    "lga.add('Odo-Otin LGA')\n",
    "print(lga)\n",
    "\n",
    "#update() is used to add Item to the set()\n",
    "lga2={'Ire-wole  LGA','Atakumosa LGA','Orolu LGA','Aye-Daade LGA'}\n",
    "lga.update(lga2)\n",
    "print(\"Local Govt in Osun State\",lga)\n",
    "\n",
    "for i in lga:\n",
    "    print(i)"
   ]
  },
  {
   "cell_type": "markdown",
   "id": "1ba664d2",
   "metadata": {},
   "source": [
    "# How to remove elemenrt from set"
   ]
  },
  {
   "cell_type": "code",
   "execution_count": null,
   "id": "15cd70e1",
   "metadata": {},
   "outputs": [],
   "source": [
    "#Discard() Method  can be used to remove Item from the set\n",
    "numberSet={1,2,3,4,5,6,7}\n",
    "numberSet.discard(5)\n",
    "print(numberSet)\n",
    "\n",
    "fruits={'Orange','Pineapple','Grape','Cashew','Mango'}\n",
    "\n",
    "fruits.discard('Cashew')\n",
    "print(fruits)\n",
    "\n",
    "#pop() method can also be used to remove Items from the set()\n",
    "\n",
    "fruits.pop()\n",
    "\n",
    "print(fruits)\n",
    "print(fruits)\n",
    "\n",
    "#remove() is also used to remove Item from the set()\n",
    "\n",
    "alphabet={'a','b','c','d'}\n",
    "\n",
    "alphabet.remove('b')\n",
    "\n",
    "print(alphabet)\n",
    "\n"
   ]
  },
  {
   "cell_type": "code",
   "execution_count": null,
   "id": "fb9c13e9",
   "metadata": {},
   "outputs": [],
   "source": [
    "#clear() method is used to remove all items from the set()\n",
    "\n",
    "alphabet.clear()\n",
    "\n",
    "print(alphabet)\n",
    "\n",
    "#del keyword is used delete the whole set\n",
    "\n",
    "del alphabet\n",
    "print(alphabet)"
   ]
  },
  {
   "cell_type": "markdown",
   "id": "3d80b414",
   "metadata": {},
   "source": [
    "# Join in Set"
   ]
  },
  {
   "cell_type": "code",
   "execution_count": null,
   "id": "5a5783bb",
   "metadata": {},
   "outputs": [],
   "source": [
    "city={'Ibadan','Abeokuta','Ikeja','Akure','Osogbo'}\n",
    "digit={12,34,54,65,78,79}\n",
    "\n",
    "set_union=city.union(digit)\n",
    "set_union2=city | digit\n",
    "print(set_union)\n",
    "print(set_union2)"
   ]
  },
  {
   "cell_type": "code",
   "execution_count": null,
   "id": "a24450fc",
   "metadata": {},
   "outputs": [],
   "source": [
    "courses={'Graphics','Web Design','Data Analysis','Machine Learning'}\n",
    "another_course={'Hardware Engineering','Cisco Networking','Cyber Security'}\n",
    "city={'Ibadan','Abeokuta','Ikeja','Akure','Osogbo'}\n",
    "digit={12,34,54,65,78,79}\n",
    "\n",
    "sets=courses.union(another_course, city, digit)\n",
    "sets1= courses | another_course | city | digit\n",
    "print(sets1)"
   ]
  },
  {
   "cell_type": "markdown",
   "id": "d121d04d",
   "metadata": {},
   "source": [
    "# Intersection()"
   ]
  },
  {
   "cell_type": "code",
   "execution_count": null,
   "id": "64f80e6a",
   "metadata": {},
   "outputs": [],
   "source": [
    "set1={'cat',1,2,'dog','Rabbit'}\n",
    "\n",
    "set2={2,3,'dog','cow',1,'Rabbit'}\n",
    "\n",
    "set4={2,3,'dog','rabit','cow','Rabbit'}\n",
    "\n",
    "set3=set1.intersection(set2,set4)\n",
    "\n",
    "set5=set3.intersection(set4)\n",
    "\n",
    "print(set3)\n",
    "\n",
    "print(set5)"
   ]
  },
  {
   "cell_type": "code",
   "execution_count": null,
   "id": "1612634e",
   "metadata": {},
   "outputs": [],
   "source": [
    "# ' & ' is used in place of intersection\n",
    "\n",
    "set5= set1 & set2 & set3 & set4\n",
    "\n",
    "print(set5)"
   ]
  },
  {
   "cell_type": "markdown",
   "id": "7ffcce3d",
   "metadata": {},
   "source": [
    "Intersection_update"
   ]
  },
  {
   "cell_type": "code",
   "execution_count": null,
   "id": "b6539f2e",
   "metadata": {},
   "outputs": [],
   "source": [
    "set1.intersection_update(set4,set2)\n",
    "print(set1)\n",
    "set2.intersection_update(set3)\n",
    "print(set2)"
   ]
  },
  {
   "cell_type": "markdown",
   "id": "49401294",
   "metadata": {},
   "source": [
    "# Diffefrence()"
   ]
  },
  {
   "cell_type": "code",
   "execution_count": null,
   "id": "a4faaee3",
   "metadata": {},
   "outputs": [],
   "source": [
    "names={'George','Bill','Golf','harry'}\n",
    "name2={'pop','Hammed','Lwarence','George','Bill'}\n",
    "\n",
    "uncommon_item = names.difference(name2)\n",
    "\n",
    "uncommon2=name2.difference(names)\n",
    "\n",
    "print(uncommon_item)\n",
    "\n",
    "print(uncommon2)"
   ]
  },
  {
   "cell_type": "code",
   "execution_count": null,
   "id": "0bcab87c",
   "metadata": {},
   "outputs": [],
   "source": [
    "# '-' is used inplace of differences\n",
    "\n",
    "check= names-name2\n",
    "print(check)\n",
    "\n",
    "check2= name2 - names\n",
    "\n",
    "print(check2)"
   ]
  },
  {
   "cell_type": "markdown",
   "id": "d3135b41",
   "metadata": {},
   "source": [
    "# difference_update()"
   ]
  },
  {
   "cell_type": "code",
   "execution_count": null,
   "id": "8ad3cd01",
   "metadata": {},
   "outputs": [],
   "source": [
    "south_west={'Oyo','Ogun','Lagos'}\n",
    "state={'Ekiti','Nasarawa','Oyo','Ondo','Akwa-Ibon'}\n",
    "\n",
    "#state.difference_update(south_west)\n",
    "\n",
    "print(state)\n",
    "\n",
    "south_west.difference_update(state)\n",
    "print(south_west)\n"
   ]
  },
  {
   "cell_type": "markdown",
   "id": "15d0e065",
   "metadata": {},
   "source": [
    "# Symmetric_difference()"
   ]
  },
  {
   "cell_type": "code",
   "execution_count": 42,
   "id": "d5a6a918",
   "metadata": {},
   "outputs": [
    {
     "name": "stdout",
     "output_type": "stream",
     "text": [
      "{'Amala', 'coca Yam', 'yam', 'beans', 'Pounded Yam'}\n",
      "{'Amala', 'coca Yam', 'yam', 'beans', 'Pounded Yam'}\n"
     ]
    }
   ],
   "source": [
    "food1={'yam','coca Yam','Potatoe','corn'}\n",
    "food2={'beans','Amala','Pounded Yam','corn','Potatoe'}\n",
    "food=food1.symmetric_difference(food2)\n",
    "print(food)\n",
    "\n",
    "food_diff = food1 ^ food2 #This is also symmetric diffrence\n",
    "print(food_diff)\n"
   ]
  },
  {
   "cell_type": "markdown",
   "id": "1b29f982",
   "metadata": {},
   "source": [
    "# Symmetric_difference_update()"
   ]
  },
  {
   "cell_type": "code",
   "execution_count": null,
   "id": "cd853a55",
   "metadata": {},
   "outputs": [],
   "source": [
    "food1.symmetric_difference_update(food2)\n",
    "print(food1)"
   ]
  },
  {
   "cell_type": "markdown",
   "id": "a1128fb8",
   "metadata": {},
   "source": [
    "# Python Dictionary"
   ]
  },
  {
   "cell_type": "markdown",
   "id": "542b7ed2",
   "metadata": {},
   "source": [
    "#Syntax for Dictionary\n",
    "\n",
    "variable= {\n",
    "            key:value\n",
    "              }"
   ]
  },
  {
   "cell_type": "code",
   "execution_count": 41,
   "id": "d2c4cd6f",
   "metadata": {},
   "outputs": [
    {
     "name": "stdout",
     "output_type": "stream",
     "text": [
      "dict_values(['Tom', '22yrs', 'Coding'])\n",
      "dict_keys(['Name', 'Age', 'Hobby'])\n",
      "dict_items([('Name', 'Tom'), ('Age', '22yrs'), ('Hobby', 'Coding')]) \n",
      "\n",
      "Name : Tom\n",
      "Age : 22yrs\n",
      "Hobby : Coding\n",
      "\n",
      " 22yrs\n",
      "Tom\n",
      "3\n",
      "names ['Bj', 'Omo-Tee', 'Abdul', 'Gbengene']\n",
      "Courses ['Data Analysis', 'Mobil app Dev', 'Cybersecurity', 'Web Development']\n"
     ]
    }
   ],
   "source": [
    "data={\n",
    "    'Name':'Tom',\n",
    "    'Age':'22yrs',\n",
    "    'Hobby':'Coding'\n",
    "    \n",
    "}\n",
    "\n",
    "print(data.values())\n",
    "print(data.keys())\n",
    "print(data.items(),'\\n')\n",
    "\n",
    "for k,v in data.items():\n",
    "    print(k,':', v)\n",
    "\n",
    "    \n",
    "#Access Items using key index\n",
    "\n",
    "print('\\n',data['Age'])\n",
    "print(data['Name'])\n",
    "\n",
    "#len() method is used to print the length of the Dictionary\n",
    "\n",
    "print(len(data))\n",
    "\n",
    "\n",
    "mydata={\n",
    "    'names':['Bj','Omo-Tee','Abdul','Gbengene'],\n",
    "    'Courses':['Data Analysis','Mobil app Dev','Cybersecurity','Web Development']\n",
    "}\n",
    "\n",
    "for i,j in mydata.items():\n",
    "    print(i,j)"
   ]
  },
  {
   "cell_type": "markdown",
   "id": "6ea9d274",
   "metadata": {},
   "source": [
    "# How to access Dictionary"
   ]
  },
  {
   "cell_type": "code",
   "execution_count": 39,
   "id": "bd44fe37",
   "metadata": {},
   "outputs": [
    {
     "name": "stdout",
     "output_type": "stream",
     "text": [
      "{'brand :': 'BMW', 'Model :': '2023', 'chasis Number :': 523879}\n"
     ]
    }
   ],
   "source": [
    "car={'brand :':'BMW',\n",
    "    'Model :':'2023',\n",
    "    'chasis Number :': 523879}\n",
    "\n",
    "print(car)"
   ]
  },
  {
   "cell_type": "code",
   "execution_count": 40,
   "id": "4dae9e99",
   "metadata": {},
   "outputs": [
    {
     "ename": "KeyError",
     "evalue": "'Model'",
     "output_type": "error",
     "traceback": [
      "\u001b[1;31m---------------------------------------------------------------------------\u001b[0m",
      "\u001b[1;31mKeyError\u001b[0m                                  Traceback (most recent call last)",
      "Input \u001b[1;32mIn [40]\u001b[0m, in \u001b[0;36m<cell line: 1>\u001b[1;34m()\u001b[0m\n\u001b[1;32m----> 1\u001b[0m \u001b[38;5;28mprint\u001b[39m(\u001b[43mcar\u001b[49m\u001b[43m[\u001b[49m\u001b[38;5;124;43m'\u001b[39;49m\u001b[38;5;124;43mModel\u001b[39;49m\u001b[38;5;124;43m'\u001b[39;49m\u001b[43m]\u001b[49m)\n\u001b[0;32m      2\u001b[0m \u001b[38;5;28mprint\u001b[39m(car[\u001b[38;5;124m'\u001b[39m\u001b[38;5;124mchasis Number\u001b[39m\u001b[38;5;124m'\u001b[39m])\n",
      "\u001b[1;31mKeyError\u001b[0m: 'Model'"
     ]
    }
   ],
   "source": [
    "print(car['Model'])\n",
    "print(car['chasis Number'])"
   ]
  },
  {
   "cell_type": "code",
   "execution_count": 36,
   "id": "0fc9099f",
   "metadata": {},
   "outputs": [
    {
     "ename": "NameError",
     "evalue": "name 'car' is not defined",
     "output_type": "error",
     "traceback": [
      "\u001b[1;31m---------------------------------------------------------------------------\u001b[0m",
      "\u001b[1;31mNameError\u001b[0m                                 Traceback (most recent call last)",
      "Input \u001b[1;32mIn [36]\u001b[0m, in \u001b[0;36m<cell line: 3>\u001b[1;34m()\u001b[0m\n\u001b[0;32m      1\u001b[0m \u001b[38;5;66;03m#get() can be used to access Dictionary\u001b[39;00m\n\u001b[1;32m----> 3\u001b[0m \u001b[38;5;28mprint\u001b[39m(\u001b[43mcar\u001b[49m\u001b[38;5;241m.\u001b[39mget(\u001b[38;5;124m'\u001b[39m\u001b[38;5;124mModel\u001b[39m\u001b[38;5;124m'\u001b[39m))\n\u001b[0;32m      4\u001b[0m out_print\u001b[38;5;241m=\u001b[39mcar\u001b[38;5;241m.\u001b[39mget(\u001b[38;5;124m'\u001b[39m\u001b[38;5;124mbrand\u001b[39m\u001b[38;5;124m'\u001b[39m)\n\u001b[0;32m      5\u001b[0m \u001b[38;5;28mprint\u001b[39m(out_print)\n",
      "\u001b[1;31mNameError\u001b[0m: name 'car' is not defined"
     ]
    }
   ],
   "source": [
    "#get() can be used to access Dictionary\n",
    "\n",
    "print(car.get('Model'))\n",
    "out_print=car.get('brand')\n",
    "print(out_print)\n",
    "\n",
    "#keys() can be used to access the keys of  Dictionary\n",
    "\n",
    "viewKeys=car.keys()\n",
    "print(viewKeys)\n",
    "#Vvalues() can be used to access the values of Dictionary\n",
    "viewValues = car.values()\n",
    "print(viewValues)\n",
    "\n",
    "#items() can be used to access both the keys and the values of Dictionary\n",
    "\n",
    "viewItems = car.items()\n",
    "print(viewItems)\n",
    "\n",
    "for i,j in car.items():\n",
    "#     print(j,)\n",
    "#     print(i)\n",
    "    \n",
    "    print(i,j)"
   ]
  },
  {
   "cell_type": "markdown",
   "id": "38047222",
   "metadata": {},
   "source": [
    "# Adding to the Dictionary"
   ]
  },
  {
   "cell_type": "code",
   "execution_count": 31,
   "id": "9ae8de34",
   "metadata": {},
   "outputs": [
    {
     "name": "stdout",
     "output_type": "stream",
     "text": [
      "Name: ['Jola', 'Bola', 'Abu', 'Kole']\n",
      "Gender: ['Female', 'Female', 'Male', 'Male']\n",
      "Courses : ['Python', 'Graphics', 'Web-design', 'Machine Learning']\n"
     ]
    }
   ],
   "source": [
    "bioData = {'Name:': ['Jola','Bola','Abu','Kole'],\n",
    "            'Gender:' : ['Female','Female', 'Male','Male']}\n",
    "# for x,y in bioData.items():\n",
    "#     print(x,y)\n",
    "bioData['Courses :']=['Python','Graphics','Web-design','Machine Learning']\n",
    "for x,y in bioData.items():\n",
    "    print(x,y)"
   ]
  },
  {
   "cell_type": "code",
   "execution_count": 32,
   "id": "8eecc5a3",
   "metadata": {},
   "outputs": [
    {
     "name": "stdout",
     "output_type": "stream",
     "text": [
      "{'Name:': ['Jola', 'Bola', 'Abu', 'Kole'], 'Gender:': ['Female', 'Female', 'Male', 'Male'], 'Courses :': ['Python', 'Graphics', 'Web-design', 'Machine Learning'], 'Hobby:': ['Singing', 'Chess Game', 'Solitaire', 'Soccer'], 'color': ['Blue', 'Red', 'Green', 'Orange']}\n",
      "Name: ['Jola', 'Bola', 'Abu', 'Kole']\n",
      "Gender: ['Female', 'Female', 'Male', 'Male']\n",
      "Courses : ['Python', 'Graphics', 'Web-design', 'Machine Learning']\n",
      "Hobby: ['Singing', 'Chess Game', 'Solitaire', 'Soccer']\n",
      "color ['Blue', 'Red', 'Green', 'Orange']\n"
     ]
    }
   ],
   "source": [
    "#Update() can use to update Dictionary\n",
    "\n",
    "bioData.update({'Hobby:':['Singing','Chess Game','Solitaire','Soccer'],'color':['Blue','Red','Green','Orange']})\n",
    "\n",
    "print(bioData)\n",
    "for j,k in bioData.items():\n",
    "    print(j,k)"
   ]
  },
  {
   "cell_type": "markdown",
   "id": "2e569099",
   "metadata": {},
   "source": [
    "# Remove from Dictionary"
   ]
  },
  {
   "cell_type": "code",
   "execution_count": 33,
   "id": "e9cc2a0d",
   "metadata": {},
   "outputs": [
    {
     "name": "stdout",
     "output_type": "stream",
     "text": [
      "{'Name:': ['Jola', 'Bola', 'Abu', 'Kole'], 'Gender:': ['Female', 'Female', 'Male', 'Male'], 'Courses :': ['Python', 'Graphics', 'Web-design', 'Machine Learning'], 'Hobby:': ['Singing', 'Chess Game', 'Solitaire', 'Soccer']}\n"
     ]
    }
   ],
   "source": [
    "# bioData.pop('Hobby:')\n",
    "bioData.popitem()\n",
    "print(bioData)"
   ]
  },
  {
   "cell_type": "code",
   "execution_count": 34,
   "id": "de673023",
   "metadata": {},
   "outputs": [
    {
     "name": "stdout",
     "output_type": "stream",
     "text": [
      "{}\n"
     ]
    }
   ],
   "source": [
    "# clear() is used to clear Dictionary\n",
    "bioData.clear()\n",
    "print(bioData)"
   ]
  },
  {
   "cell_type": "code",
   "execution_count": 35,
   "id": "1ee7671b",
   "metadata": {},
   "outputs": [
    {
     "ename": "NameError",
     "evalue": "name 'bioData' is not defined",
     "output_type": "error",
     "traceback": [
      "\u001b[1;31m---------------------------------------------------------------------------\u001b[0m",
      "\u001b[1;31mNameError\u001b[0m                                 Traceback (most recent call last)",
      "Input \u001b[1;32mIn [35]\u001b[0m, in \u001b[0;36m<cell line: 3>\u001b[1;34m()\u001b[0m\n\u001b[0;32m      1\u001b[0m \u001b[38;5;66;03m# del keyword is used to delete the whole Dictionary\u001b[39;00m\n\u001b[0;32m      2\u001b[0m \u001b[38;5;28;01mdel\u001b[39;00m bioData\n\u001b[1;32m----> 3\u001b[0m \u001b[38;5;28mprint\u001b[39m(\u001b[43mbioData\u001b[49m)\n",
      "\u001b[1;31mNameError\u001b[0m: name 'bioData' is not defined"
     ]
    }
   ],
   "source": [
    "# del keyword is used to delete the whole Dictionary\n",
    "del bioData\n",
    "print(bioData)"
   ]
  },
  {
   "cell_type": "markdown",
   "id": "82e36f10",
   "metadata": {},
   "source": [
    "#  How to Copy Dictionary"
   ]
  },
  {
   "cell_type": "code",
   "execution_count": 26,
   "id": "5194404e",
   "metadata": {},
   "outputs": [
    {
     "name": "stdout",
     "output_type": "stream",
     "text": [
      "{'Name:': ['Jola', 'Bola', 'Abu', 'Kole'], 'Gender:': ['Female', 'Female', 'Male', 'Male']}\n",
      "{'Name:': ['Jola', 'Bola', 'Abu', 'Kole'], 'Gender:': ['Female', 'Female', 'Male', 'Male']}\n"
     ]
    }
   ],
   "source": [
    "#copy() can be used to copy Dictionary from one place to another\n",
    "\n",
    "\n",
    "bioData = {'Name:': ['Jola','Bola','Abu','Kole'],\n",
    "            'Gender:' : ['Female','Female', 'Male','Male']}\n",
    "\n",
    "mainData= bioData.copy()\n",
    "print(mainData)\n",
    "\n",
    "# dict() can be used to copy also\n",
    "\n",
    "RealData = dict(mainData)\n",
    "print(RealData)"
   ]
  },
  {
   "cell_type": "markdown",
   "id": "495392cb",
   "metadata": {},
   "source": [
    "# NESTED Dictionary"
   ]
  },
  {
   "cell_type": "code",
   "execution_count": 25,
   "id": "98801983",
   "metadata": {},
   "outputs": [
    {
     "name": "stdout",
     "output_type": "stream",
     "text": [
      "{'Father': {'Name': 'Adubi', 'Hobby': 'Reading'}, 'Mother': {'Name': 'Bolanle', 'Hobby': 'Cooking'}, 'Child': {'Name': 'Lawson', 'Hobby': 'Singing'}}\n",
      "Father\n",
      ".....................\n",
      "Name Adubi\n",
      "Hobby Reading\n",
      "Mother\n",
      ".....................\n",
      "Name Bolanle\n",
      "Hobby Cooking\n",
      "Child\n",
      ".....................\n",
      "Name Lawson\n",
      "Hobby Singing\n",
      ".....................\n"
     ]
    }
   ],
   "source": [
    "#Syntax\n",
    "\n",
    "# Val= {\n",
    "#     key : {\n",
    "#         key: value\n",
    "#            }\n",
    "# }\n",
    "\n",
    "Family = {\n",
    "          'Father':{\n",
    "              'Name': 'Adubi',\n",
    "              'Hobby': 'Reading'  \n",
    "          },\n",
    "          'Mother':{\n",
    "              'Name':'Bolanle',\n",
    "              'Hobby':'Cooking'\n",
    "          },\n",
    "        'Child':{\n",
    "            'Name':'Lawson',\n",
    "            'Hobby':'Singing'\n",
    "        }\n",
    "    \n",
    "}\n",
    "\n",
    "print(Family)\n",
    "\n",
    "for g,h in Family.items():\n",
    "    print(g)\n",
    "    print(\".....................\")\n",
    "    for f,j in h.items():\n",
    "        print(f,j,)\n",
    "print(\".....................\")    \n"
   ]
  },
  {
   "cell_type": "markdown",
   "id": "b35dba09",
   "metadata": {},
   "source": [
    "# Control Stucture"
   ]
  },
  {
   "cell_type": "markdown",
   "id": "cd2035b0",
   "metadata": {},
   "source": [
    "<h3>It is conditional statment and Iteration</h3>"
   ]
  },
  {
   "cell_type": "markdown",
   "id": "71f22467",
   "metadata": {},
   "source": [
    "<h4>=> Conditional Statement</h4>"
   ]
  },
  {
   "cell_type": "markdown",
   "id": "76399e9a",
   "metadata": {},
   "source": [
    "<h4> if......else Statement</h4>\n",
    "<h4>if......elif....Statement</h4>"
   ]
  },
  {
   "cell_type": "code",
   "execution_count": 23,
   "id": "1e9bc52d",
   "metadata": {},
   "outputs": [
    {
     "name": "stdout",
     "output_type": "stream",
     "text": [
      "X is holder of 20\n"
     ]
    }
   ],
   "source": [
    "#Example1 ('if' statement)\n",
    "\n",
    "x=20\n",
    "\n",
    "if x == 20 :\n",
    "    print(\"X is holder of 20\")"
   ]
  },
  {
   "cell_type": "code",
   "execution_count": 24,
   "id": "acfc5d8f",
   "metadata": {},
   "outputs": [
    {
     "name": "stdout",
     "output_type": "stream",
     "text": [
      "X is not greater than 30\n"
     ]
    }
   ],
   "source": [
    "#Eample2 ('if...else' Statement)\n",
    "\n",
    "if x > 30:\n",
    "    print(\"X is greater than 30\")\n",
    "    \n",
    "else:\n",
    "    print(\"X is not greater than 30\")"
   ]
  },
  {
   "cell_type": "code",
   "execution_count": 21,
   "id": "85381b55",
   "metadata": {},
   "outputs": [
    {
     "name": "stdout",
     "output_type": "stream",
     "text": [
      "Enter number : 23\n",
      "K is not equal to 50\n"
     ]
    }
   ],
   "source": [
    "#Example3 ('if...elif....else' Statement)\n",
    "\n",
    "k = int(input(\"Enter number : \"))\n",
    "\n",
    "if k == 30 :\n",
    "    print(\"This is correct\")\n",
    "elif k == 20 :\n",
    "    print(\" Wow!!! this is very correct\")\n",
    "elif k != 50 :\n",
    "    print(\"K is not equal to 50\")\n",
    "\n",
    "else: \n",
    "    print(\"The above conditions are not correct\")"
   ]
  },
  {
   "cell_type": "code",
   "execution_count": 20,
   "id": "411e8662",
   "metadata": {},
   "outputs": [
    {
     "name": "stdout",
     "output_type": "stream",
     "text": [
      "Orange\n",
      "Tangerine\n",
      "Apple\n"
     ]
    }
   ],
   "source": [
    "#Exampl 4\n",
    "\n",
    "fruits=[\"Orange\",\"Tangerine\",\"Apple\"]\n",
    "\n",
    "if 'Oranges' in fruits:\n",
    "    print(fruits)\n",
    "elif 'Apple' in fruits:\n",
    "    for i in fruits:\n",
    "        print(i)"
   ]
  },
  {
   "cell_type": "code",
   "execution_count": 12,
   "id": "ed92d604",
   "metadata": {},
   "outputs": [
    {
     "name": "stdout",
     "output_type": "stream",
     "text": [
      "Enter Value10\n",
      "Correct value\n"
     ]
    }
   ],
   "source": [
    "value1 = int(input(\"Enter Value\"))\n",
    "#value2 = int(input(\"Enter Value\"))\n",
    "\n",
    "print('Correct value') if value1 == 10  else print(\"Not Correct\")"
   ]
  },
  {
   "cell_type": "code",
   "execution_count": 4,
   "id": "6c7f30a1",
   "metadata": {},
   "outputs": [
    {
     "name": "stdout",
     "output_type": "stream",
     "text": [
      "Enter Value13\n",
      "Not Correct\n"
     ]
    }
   ],
   "source": [
    "value1 = int(input(\"Enter Value\"))\n",
    "#value2 = int(input(\"Enter Value\"))\n",
    "\n",
    "print('Correct value') if value1 == 10  else print(\"Not Correct\")"
   ]
  },
  {
   "cell_type": "markdown",
   "id": "08af990c",
   "metadata": {},
   "source": [
    "# AND, OR , NOT"
   ]
  },
  {
   "cell_type": "code",
   "execution_count": 16,
   "id": "ae9c2e7a",
   "metadata": {},
   "outputs": [
    {
     "name": "stdout",
     "output_type": "stream",
     "text": [
      "Enter Value : 30\n",
      "Enter Value : 267\n",
      "You are qualified for the Computer Science\n"
     ]
    }
   ],
   "source": [
    "\n",
    "age1 = int(input(\"Enter Value : \"))\n",
    "\n",
    "scores = int(input(\"Enter Value : \"))\n",
    "\n",
    "\n",
    "if age1 == 30 and scores >= 250:\n",
    "    \n",
    "    print(\"You are qualified for the Computer Science\")\n",
    "else:\n",
    "    print(\"Come back next year\")\n"
   ]
  },
  {
   "cell_type": "code",
   "execution_count": 19,
   "id": "769465d3",
   "metadata": {},
   "outputs": [
    {
     "name": "stdout",
     "output_type": "stream",
     "text": [
      "Enter Value : 30\n",
      "Enter Value : 24\n",
      "Come back next year\n"
     ]
    }
   ],
   "source": [
    "# AND keyword\n",
    "age1 = int(input(\"Enter Value : \"))\n",
    "\n",
    "scores = int(input(\"Enter Value : \"))\n",
    "\n",
    "\n",
    "if age1 == 30 and scores >= 250:\n",
    "    \n",
    "    print(\"You are qualified for the Computer Science\")\n",
    "else:\n",
    "    print(\"Come back next year\")\n"
   ]
  },
  {
   "cell_type": "code",
   "execution_count": 32,
   "id": "d815e75d",
   "metadata": {},
   "outputs": [
    {
     "name": "stdout",
     "output_type": "stream",
     "text": [
      "You are good to go\n"
     ]
    }
   ],
   "source": [
    "# OR KEYWORD\n",
    "\n",
    "height = 6.2\n",
    "skill = 1\n",
    "\n",
    "if height >= 6.0 or skill == 3.0 :\n",
    "    print(\"You are good to go\")\n",
    "else:\n",
    "    print(\"Work harder\")"
   ]
  },
  {
   "cell_type": "code",
   "execution_count": 35,
   "id": "fc64e77a",
   "metadata": {},
   "outputs": [
    {
     "name": "stdout",
     "output_type": "stream",
     "text": [
      "Above condition is confusing\n"
     ]
    }
   ],
   "source": [
    "#Not \n",
    "\n",
    "a=10 \n",
    "v=25\n",
    "\n",
    "if not a < v :\n",
    "    print(\"10 is not greater than 25\")\n",
    "else: \n",
    "    print(\"Above condition is confusing\")"
   ]
  },
  {
   "cell_type": "markdown",
   "id": "74399946",
   "metadata": {},
   "source": [
    "# Nested If: Having If in another If"
   ]
  },
  {
   "cell_type": "code",
   "execution_count": 5,
   "id": "6163b6c2",
   "metadata": {},
   "outputs": [
    {
     "name": "stdout",
     "output_type": "stream",
     "text": [
      " This is an example of nested if\n",
      "Enter Number10\n",
      "Enter Number30\n",
      "The nested is missing a condition\n"
     ]
    }
   ],
   "source": [
    "#Example 1\n",
    "n= 10\n",
    "\n",
    "if n < 12:\n",
    "    if 30 != n:\n",
    "        print(\" This is an example of nested if\")\n",
    "        \n",
    "    else:\n",
    "        print(\"The nested is missing a condition\")\n",
    "else:\n",
    "    print(\"The above statement is absolutely not correct\")\n",
    "    \n",
    "    \n",
    "#Example 2    \n",
    "\n",
    "m = int(input(\"Enter Number\"))\n",
    "j= int(input(\"Enter Number\"))\n",
    "if m < 15:\n",
    "    if 30 != j :\n",
    "        print(\" This is another example of nested if\")\n",
    "    else:\n",
    "        print(\"The nested is missing a condition\")\n",
    "else:\n",
    "     print(\"The above statement is also not correct\")"
   ]
  },
  {
   "cell_type": "code",
   "execution_count": null,
   "id": "5e7df75e",
   "metadata": {},
   "outputs": [],
   "source": [
    "#Example 3\n",
    "stud_id = \"cs00128\"\n",
    "grade = int(input(\"Score\"))\n",
    "    \n",
    "if  stud_id == \"cs00128\":\n",
    "    if grade >=79:\n",
    "        print(\"Grade : A\")\n",
    "    elif grade >=70:\n",
    "        print(\"Grade : B\")\n",
    "    else:\n",
    "        print(\"Grade : Fail\")\n",
    "else:\n",
    "    print(\"The Student Id is invalid\")"
   ]
  },
  {
   "cell_type": "markdown",
   "id": "c086cd53",
   "metadata": {},
   "source": [
    "\n",
    "# Iteration"
   ]
  },
  {
   "cell_type": "code",
   "execution_count": 3,
   "id": "c7cb16db",
   "metadata": {},
   "outputs": [
    {
     "name": "stdout",
     "output_type": "stream",
     "text": [
      "10\n",
      "11\n",
      "12\n",
      "13\n",
      "14\n",
      "bag\n",
      "Shoe\n",
      "Sun Glasses\n",
      "Mobile Phone\n",
      "Belt\n",
      "shoe polish\n",
      "Body Spray\n"
     ]
    }
   ],
   "source": [
    "#for Loop and while loop\n",
    "\n",
    "\n",
    "# While loop\n",
    "\n",
    "k =10\n",
    "\n",
    "while k < 15:\n",
    "    print(k)\n",
    "    k += 1\n",
    "\n",
    "\n",
    "#example2\n",
    "\n",
    "items= ['bag','Shoe','Sun Glasses','Mobile Phone','Belt','shoe polish','Body Spray']\n",
    "\n",
    "j=0\n",
    "\n",
    "while j < len(items):\n",
    "    print(items[j])\n",
    "    j +=1 \n"
   ]
  },
  {
   "cell_type": "code",
   "execution_count": 6,
   "id": "91bdefab",
   "metadata": {},
   "outputs": [
    {
     "name": "stdout",
     "output_type": "stream",
     "text": [
      "bag\n",
      "Shoe\n",
      "Sun Glasses\n",
      "Mobile Phone\n",
      "Belt\n"
     ]
    }
   ],
   "source": [
    "#Break Keyword\n",
    "\n",
    "items= ['bag','Shoe','Sun Glasses','Mobile Phone','Belt','shoe polish','Body Spray']\n",
    "\n",
    "j=0\n",
    "while j < len(items):\n",
    "    print(items[j])\n",
    "    if (j == 4):\n",
    "        break\n",
    "    j +=1 "
   ]
  },
  {
   "cell_type": "code",
   "execution_count": 3,
   "id": "06f37a03",
   "metadata": {},
   "outputs": [],
   "source": [
    "#Continue Keyword\n",
    "\n",
    "items= ['bag','Shoe','Sun Glasses','Mobile Phone','Belt','shoe polish','Body Spray']\n",
    "\n",
    "j=0\n",
    "while j < len(items):\n",
    "    j +=1\n",
    "    if (j == 3):\n",
    "        continue\n",
    "        print(items[j])"
   ]
  },
  {
   "cell_type": "markdown",
   "id": "73a95f0a",
   "metadata": {},
   "source": [
    "# Function "
   ]
  },
  {
   "cell_type": "raw",
   "id": "a8a63d9c",
   "metadata": {},
   "source": [
    "It is a block of code that runs when it is called"
   ]
  },
  {
   "cell_type": "code",
   "execution_count": 5,
   "id": "03fb0771",
   "metadata": {},
   "outputs": [
    {
     "data": {
      "text/plain": [
       "'def functionName(argument):\\n    code line to be executed'"
      ]
     },
     "execution_count": 5,
     "metadata": {},
     "output_type": "execute_result"
    }
   ],
   "source": [
    "#Syntax for function\n",
    "\"\"\"def functionName(argument):\n",
    "    code line to be executed\"\"\"\n"
   ]
  },
  {
   "cell_type": "code",
   "execution_count": 13,
   "id": "3c4c5730",
   "metadata": {},
   "outputs": [
    {
     "name": "stdout",
     "output_type": "stream",
     "text": [
      "Good Evening Everyone\n",
      "Everybody need to be alert right now\n",
      "10 + 12 = 22\n"
     ]
    }
   ],
   "source": [
    "# Example 1\n",
    "\n",
    "def Salutation():\n",
    "    print(\"Good Evening Everyone\")\n",
    "\n",
    "Salutation() # Function Called\n",
    "\n",
    "\n",
    "# Example 2\n",
    "\n",
    "def Mssg():\n",
    "    print(\"Everybody need to be alert right now\")\n",
    "\n",
    "Mssg()\n",
    "\n",
    "\n",
    "def add():\n",
    "    a=10\n",
    "    b=12\n",
    "    print(\"10 + 12 =\", a + b )\n",
    "\n",
    "add()"
   ]
  },
  {
   "cell_type": "markdown",
   "id": "1fb18ad3",
   "metadata": {},
   "source": [
    "<h2>Arguments(It like a variable declared in a function Bracket)</h2>"
   ]
  },
  {
   "cell_type": "code",
   "execution_count": 21,
   "id": "836db453",
   "metadata": {},
   "outputs": [
    {
     "name": "stdout",
     "output_type": "stream",
     "text": [
      "Adewale  Williams\n",
      "Wolex    Williams\n",
      "Course Name:  Data Analytics\n",
      "a + b / c =  10.571428571428571\n",
      " \n",
      " Name : Abdul\n",
      "Course : Python\n",
      "Duration : 5months\n"
     ]
    }
   ],
   "source": [
    "def BioData(fname):\n",
    "    print(\"Adewale \", fname)\n",
    "    print(\"Wolex   \", fname)\n",
    "\n",
    "BioData('Williams')\n",
    "\n",
    "def course(courseName):\n",
    "    print(\"Course Name: \", courseName)\n",
    "\n",
    "course(\"Data Analytics\")\n",
    "\n",
    "# Below function takes more than one argument\n",
    "def calcu(a,b,c):\n",
    "    print(\"a + b / c = \" , a + b / c)\n",
    "calcu(10,20,35)\n",
    "\n",
    "def StudBio(name,course,duration):\n",
    "    print(\" \\n Name :\", name)\n",
    "    print(\"Course :\", course)\n",
    "    print(\"Duration :\", duration)\n",
    "\n",
    "StudBio('Abdul','Python','5months')"
   ]
  },
  {
   "cell_type": "code",
   "execution_count": 1,
   "id": "abc84397",
   "metadata": {},
   "outputs": [
    {
     "name": "stdout",
     "output_type": "stream",
     "text": [
      "There are the list of country available ('USA', 'Nigeria', 'Canada', 'South Africa', 'Germany')\n",
      " country : USA\n",
      " country : Nigeria\n",
      " country : Canada\n",
      " country : South Africa\n",
      " country : Germany\n"
     ]
    }
   ],
   "source": [
    "def country(*counName):\n",
    "    \n",
    "    print(\"There are the list of country available\", counName)\n",
    "    for i in counName:\n",
    "        print(\" country :\", i)\n",
    "country(\"USA\",\"Nigeria\",\"Canada\",\"South Africa\",\"Germany\")"
   ]
  },
  {
   "cell_type": "markdown",
   "id": "9b54e3e9",
   "metadata": {},
   "source": [
    "# Topic : LAMBDA( Anonymous Function)"
   ]
  },
  {
   "cell_type": "code",
   "execution_count": 3,
   "id": "6ec854f1",
   "metadata": {},
   "outputs": [
    {
     "name": "stdout",
     "output_type": "stream",
     "text": [
      "30\n"
     ]
    }
   ],
   "source": [
    "#Syntax \n",
    "# lambda argument : expression\n",
    "\n",
    "x= lambda e : e + 20\n",
    "\n",
    "print(x(10))"
   ]
  },
  {
   "cell_type": "code",
   "execution_count": 8,
   "id": "89c6c680",
   "metadata": {},
   "outputs": [
    {
     "name": "stdout",
     "output_type": "stream",
     "text": [
      "100\n"
     ]
    }
   ],
   "source": [
    "age = lambda ag : ag * 5\n",
    "\n",
    "print(age(20))"
   ]
  },
  {
   "cell_type": "code",
   "execution_count": 11,
   "id": "b815ff8b",
   "metadata": {},
   "outputs": [
    {
     "name": "stdout",
     "output_type": "stream",
     "text": [
      "32\n"
     ]
    }
   ],
   "source": [
    "calculator = lambda c,d : c + d\n",
    "print(calculator(12,20))"
   ]
  },
  {
   "cell_type": "code",
   "execution_count": 13,
   "id": "fa98123b",
   "metadata": {},
   "outputs": [
    {
     "name": "stdout",
     "output_type": "stream",
     "text": [
      "26\n"
     ]
    }
   ],
   "source": [
    "addy = lambda a,s,d : a + s * d\n",
    "print(addy(10,2,8))"
   ]
  },
  {
   "cell_type": "code",
   "execution_count": 15,
   "id": "865d2f96",
   "metadata": {},
   "outputs": [
    {
     "name": "stdout",
     "output_type": "stream",
     "text": [
      "Enter Number\n"
     ]
    },
    {
     "ename": "ValueError",
     "evalue": "invalid literal for int() with base 10: ''",
     "output_type": "error",
     "traceback": [
      "\u001b[1;31m---------------------------------------------------------------------------\u001b[0m",
      "\u001b[1;31mValueError\u001b[0m                                Traceback (most recent call last)",
      "Input \u001b[1;32mIn [15]\u001b[0m, in \u001b[0;36m<cell line: 3>\u001b[1;34m()\u001b[0m\n\u001b[0;32m      1\u001b[0m sub \u001b[38;5;241m=\u001b[39m \u001b[38;5;28;01mlambda\u001b[39;00m i,j : i \u001b[38;5;241m*\u001b[39m j\n\u001b[1;32m----> 3\u001b[0m num1 \u001b[38;5;241m=\u001b[39m \u001b[38;5;28;43mint\u001b[39;49m\u001b[43m(\u001b[49m\u001b[38;5;28;43minput\u001b[39;49m\u001b[43m(\u001b[49m\u001b[38;5;124;43m\"\u001b[39;49m\u001b[38;5;124;43mEnter Number\u001b[39;49m\u001b[38;5;124;43m\"\u001b[39;49m\u001b[43m)\u001b[49m\u001b[43m)\u001b[49m\n\u001b[0;32m      4\u001b[0m num2 \u001b[38;5;241m=\u001b[39m \u001b[38;5;28mint\u001b[39m(\u001b[38;5;28minput\u001b[39m(\u001b[38;5;124m\"\u001b[39m\u001b[38;5;124mEnter Second Number\u001b[39m\u001b[38;5;124m\"\u001b[39m))\n\u001b[0;32m      6\u001b[0m \u001b[38;5;28mprint\u001b[39m(sub(num1 , num2))\n",
      "\u001b[1;31mValueError\u001b[0m: invalid literal for int() with base 10: ''"
     ]
    }
   ],
   "source": [
    "sub = lambda i,j : i * j\n",
    "\n",
    "num1 = int(input(\"Enter Number\"))\n",
    "num2 = int(input(\"Enter Second Number\"))\n",
    "\n",
    "print(sub(num1 , num2))"
   ]
  },
  {
   "cell_type": "markdown",
   "id": "6e7801c1",
   "metadata": {},
   "source": [
    "# Moudles= External Libry in Python"
   ]
  },
  {
   "cell_type": "code",
   "execution_count": 2,
   "id": "ddb361dd",
   "metadata": {},
   "outputs": [
    {
     "name": "stdout",
     "output_type": "stream",
     "text": [
      "2024-09-24 21:20:29.223870\n",
      "\n",
      "This Year is : 2024\n",
      "\n",
      " Today is : 24\n",
      "\n",
      " THis Month is : 9\n"
     ]
    }
   ],
   "source": [
    "import datetime\n",
    "\n",
    "Mydate= datetime.datetime.now()\n",
    "print(Mydate)\n",
    "\n",
    "print(\"\\nThis Year is :\", Mydate.year)# Determine Year\n",
    "print(\"\\n Today is :\", Mydate.day)# Determine Day\n",
    "print(\"\\n THis Month is :\", Mydate.month)"
   ]
  },
  {
   "cell_type": "code",
   "execution_count": 3,
   "id": "e204aec7",
   "metadata": {},
   "outputs": [
    {
     "name": "stdout",
     "output_type": "stream",
     "text": [
      "Tuesday\n",
      "Tue\n"
     ]
    }
   ],
   "source": [
    "print(Mydate.strftime(\"%A\"))# Days of the week\n",
    "print(Mydate.strftime(\"%a\"))# "
   ]
  },
  {
   "cell_type": "markdown",
   "id": "3935c922",
   "metadata": {},
   "source": [
    "# Working with Json file"
   ]
  },
  {
   "cell_type": "markdown",
   "id": "3e6b50e2",
   "metadata": {},
   "source": [
    "Json is Javascript Object Notation, its like Dictionary but its in Javascript \n",
    "format. We use it as a dataset for projects."
   ]
  },
  {
   "cell_type": "code",
   "execution_count": 9,
   "id": "2f6a4dbf",
   "metadata": {},
   "outputs": [
    {
     "name": "stdout",
     "output_type": "stream",
     "text": [
      "22\n",
      "{'name': 'John Poju', 'age': 22, 'city': 'Osogbo'} \n",
      "\n",
      "name John Poju\n",
      "age 22\n",
      "city Osogbo\n"
     ]
    }
   ],
   "source": [
    "#Example\n",
    "import json\n",
    "\n",
    "dataSet =  '{ \"name\":\"John Poju\", \"age\":22, \"city\":\"Osogbo\"}'\n",
    "\n",
    "# parse dataSet:\n",
    "# loads is used to convert to python related dataset\n",
    "y = json.loads(dataSet) \n",
    "\n",
    "# the result is a Python dictionary:\n",
    "print(y[\"age\"])\n",
    "print(y,'\\n')\n",
    "\n",
    "for i,k in y.items():\n",
    "    print(i,k)"
   ]
  },
  {
   "cell_type": "markdown",
   "id": "77f118af",
   "metadata": {},
   "source": [
    "# Convert from Python to JSON"
   ]
  },
  {
   "cell_type": "code",
   "execution_count": 18,
   "id": "d298a916",
   "metadata": {},
   "outputs": [
    {
     "name": "stdout",
     "output_type": "stream",
     "text": [
      "{\"name\": \"John Poju\", \"age\": 22, \"city\": \"Osogbo\"}\n"
     ]
    }
   ],
   "source": [
    "dataSet =  { \"name\":\"John Poju\",\n",
    "              \"age\": 22,\n",
    "              \"city\":\"Osogbo\"}\n",
    "#Dumps is used to convert dictionary to json\n",
    "data_convert=json.dumps(dataSet)\n",
    "print(data_convert)\n"
   ]
  },
  {
   "cell_type": "markdown",
   "id": "bcd12488",
   "metadata": {},
   "source": [
    "# PIP"
   ]
  },
  {
   "cell_type": "markdown",
   "id": "b5a35f65",
   "metadata": {},
   "source": [
    "# File handling"
   ]
  },
  {
   "cell_type": "markdown",
   "id": "9e2deba5",
   "metadata": {},
   "source": [
    "<h3>#file handling </h3>\n",
    "<h3>x-Create a file</h3>\n",
    "<h3>a-Append(update a file) </h3>\n",
    "<h3>w- Write a file</h3>\n",
    "<h3>r- Read a File </h3>"
   ]
  },
  {
   "cell_type": "code",
   "execution_count": 22,
   "id": "f800042a",
   "metadata": {},
   "outputs": [
    {
     "name": "stdout",
     "output_type": "stream",
     "text": [
      "<_io.TextIOWrapper name='C:/Users/HP/Desktop/MyOnlinePythonClass/myfile.txt' mode='rt' encoding='cp1252'>\n"
     ]
    }
   ],
   "source": [
    "#Open\n",
    "file_open = open('C:/Users/HP/Desktop/MyOnlinePythonClass/myfile.txt', 'rt')\n",
    "print(file_open)"
   ]
  },
  {
   "cell_type": "code",
   "execution_count": 33,
   "id": "0ef036f2",
   "metadata": {},
   "outputs": [
    {
     "name": "stdout",
     "output_type": "stream",
     "text": [
      "good evening class, we are treating file handling\n",
      "\n"
     ]
    }
   ],
   "source": [
    "file_output = open('C:/Users/HP/Desktop/MyOnlinePythonClass/myfile.txt', 'r')\n",
    "# print(file_output.read(20))\n",
    "\n",
    "print(file_output.readline())"
   ]
  },
  {
   "cell_type": "code",
   "execution_count": 34,
   "id": "94947b3a",
   "metadata": {},
   "outputs": [
    {
     "name": "stdout",
     "output_type": "stream",
     "text": [
      "Python is creating a file now\n"
     ]
    }
   ],
   "source": [
    "print(file_output.readline())"
   ]
  },
  {
   "cell_type": "code",
   "execution_count": 38,
   "id": "68a2c70a",
   "metadata": {},
   "outputs": [],
   "source": [
    "file_update = open('C:/Users/HP/Desktop/MyOnlinePythonClass/myfile.txt', 'a')\n",
    "file_update.write(\"\\n it is also s good thing to be a python developer in this new age.\")\n",
    "file_update.close()"
   ]
  },
  {
   "cell_type": "code",
   "execution_count": 39,
   "id": "cfb56171",
   "metadata": {},
   "outputs": [
    {
     "name": "stdout",
     "output_type": "stream",
     "text": [
      "good evening class, we are treating file handling\n",
      "Python is creating a file nowit is also s good thing to be a python developer in this new age.\n",
      " it is also s good thing to be a python developer in this new age.\n"
     ]
    }
   ],
   "source": [
    "file_update = open('C:/Users/HP/Desktop/MyOnlinePythonClass/myfile.txt', 'r')\n",
    "print(file_update.read())"
   ]
  },
  {
   "cell_type": "code",
   "execution_count": 43,
   "id": "d3ea78d5",
   "metadata": {},
   "outputs": [],
   "source": [
    "file_write= open('C:/Users/HP/Desktop/MyOnlinePythonClass/myfile2.txt','w')\n",
    "file_write.write(\"................\\n this is another file written to update the \\n python file to illustrate write() method\")\n",
    "file_write.close()"
   ]
  },
  {
   "cell_type": "code",
   "execution_count": 46,
   "id": "fe3e7f55",
   "metadata": {},
   "outputs": [
    {
     "name": "stdout",
     "output_type": "stream",
     "text": [
      "\n",
      " this is another file written to update the \n",
      " python file to illustrate write() method\n"
     ]
    }
   ],
   "source": [
    "file_previous = open('C:/Users/HP/Desktop/MyOnlinePythonClass/myfile.txt', 'r')\n",
    "file_read = open('C:/Users/HP/Desktop/MyOnlinePythonClass/myfile2.txt', 'r')\n",
    "print(file_previous.read())\n"
   ]
  },
  {
   "cell_type": "code",
   "execution_count": 47,
   "id": "57e2d47c",
   "metadata": {},
   "outputs": [
    {
     "name": "stdout",
     "output_type": "stream",
     "text": [
      "\n",
      " this is another file written to update the \n",
      " python file to illustrate write() method\n"
     ]
    }
   ],
   "source": [
    "print(file_read.read())"
   ]
  },
  {
   "cell_type": "code",
   "execution_count": 52,
   "id": "6fdbda64",
   "metadata": {},
   "outputs": [
    {
     "name": "stdout",
     "output_type": "stream",
     "text": [
      "\n"
     ]
    }
   ],
   "source": [
    "# newfile=open('C:/Users/HP/Desktop/MyOnlinePythonClass/newfile.txt', 'x')\n",
    "# file.close()\n",
    "# newf= open('C:/Users/HP/Desktop/MyOnlinePythonClass/newfile.txt', 'w')\n",
    "# newf.close()\n",
    "newfile1 = open('C:/Users/HP/Desktop/MyOnlinePythonClass/newfile.txt','r')\n",
    "print(newfile1.read())"
   ]
  },
  {
   "cell_type": "code",
   "execution_count": 53,
   "id": "85a5295f",
   "metadata": {},
   "outputs": [],
   "source": [
    "newf=open('C:/Users/HP/Desktop/MyOnlinePythonClass/newfile.txt','a')\n",
    "newf.write(\"Home sweet home\")\n",
    "newf.close()\n",
    "#print(newfile1.read())')"
   ]
  },
  {
   "cell_type": "code",
   "execution_count": 55,
   "id": "b2cfaa60",
   "metadata": {},
   "outputs": [
    {
     "name": "stdout",
     "output_type": "stream",
     "text": [
      "Home sweet home\n"
     ]
    }
   ],
   "source": [
    "newf = open('C:/Users/HP/Desktop/MyOnlinePythonClass/newfile.txt','r')\n",
    "print(newf.read())"
   ]
  },
  {
   "cell_type": "markdown",
   "id": "73f975cf",
   "metadata": {},
   "source": [
    "The Enugu State government has announced plans to raise billions of naira annually to fund critical security infrastructure, ensuring the state is secure for tourism, business, and investment to thrive.\n",
    "\n",
    "The Governor of Enugu State, Peter Mbah, disclosed this on Thursday during the unveiling of a N20bn fundraising campaign for the State Security Trust Fund, held at the Old Government Lodge, Enugu.\n",
    "\n",
    "Mbah explained that the Enugu State Security Trust Fund is a public-private partnership established in response to the need to improve the security infrastructure of Enugu State while fostering development and prosperity for its residents.\n",
    "\n",
    "Represented by the Secretary to the State Government, Chidiebere Onyia, the Governor noted that “without a secure environment, his drive to grow the economy of Enugu State from $4 billion to $30 billion annually will not be achievable.”\n",
    "\n",
    "Health 360: Safety in health care0:00 / 0:00\n",
    "\n",
    "He listed the critical security projects to be funded, which include personnel welfare, empowerment of the vigilante group, purchasing additional weaponry, CCTV system architecture, a street lighting system, purchase of security vehicles, and support for security agencies.\n",
    "\n",
    "While stating that the entire country is witnessing multifaceted security issues, Mbah urged individuals, corporate entities, businesses, and various arms of government to support the fund.\n",
    "\n",
    "Earlier, the Chairman of the Board of Trustees of the State Security Trust Fund, Dr Ike Chioke, said the fund anticipates contributions of N10 billion from corporate entities, N3 billion from the state government, N3 billion from local government, and N1.5 billion from individuals and other sources.\n",
    "The objective of the trust fund, Chioke said, is to create a central security coordination point, which will help strengthen the state’s security infrastructure in combating the multifaceted issues of insecurity across the region.\n",
    "\n",
    "\n",
    "He stated, “This initiative is born out of the urgent need to address the security challenges that have plagued our beloved state, and it marks a significant step towards creating a safer, more prosperous, and more progressive future for all our residents. Enugu State, under the leadership of His Excellency Dr. Peter Mbah, has set a bold vision to become one of Nigeria’s top three states by Gross Domestic Product (GDP)."
   ]
  },
  {
   "cell_type": "code",
   "execution_count": 2,
   "id": "f91a7927",
   "metadata": {},
   "outputs": [
    {
     "name": "stdout",
     "output_type": "stream",
     "text": [
      "Requirement already satisfied: requests in c:\\users\\hp\\anaconda3\\lib\\site-packages (2.27.1)Note: you may need to restart the kernel to use updated packages.\n"
     ]
    },
    {
     "name": "stderr",
     "output_type": "stream",
     "text": [
      "WARNING: Ignoring invalid distribution -illow (c:\\users\\hp\\anaconda3\\lib\\site-packages)\n",
      "WARNING: Ignoring invalid distribution -lotly (c:\\users\\hp\\anaconda3\\lib\\site-packages)\n",
      "WARNING: Ignoring invalid distribution -illow (c:\\users\\hp\\anaconda3\\lib\\site-packages)\n",
      "WARNING: Ignoring invalid distribution -lotly (c:\\users\\hp\\anaconda3\\lib\\site-packages)\n",
      "\n",
      "[notice] A new release of pip is available: 24.0 -> 24.2\n",
      "[notice] To update, run: python.exe -m pip install --upgrade pip\n"
     ]
    },
    {
     "name": "stdout",
     "output_type": "stream",
     "text": [
      "\n",
      "Requirement already satisfied: beautifulsoup4 in c:\\users\\hp\\anaconda3\\lib\\site-packages (4.11.1)\n",
      "Requirement already satisfied: lxml in c:\\users\\hp\\anaconda3\\lib\\site-packages (4.8.0)\n",
      "Requirement already satisfied: urllib3<1.27,>=1.21.1 in c:\\users\\hp\\anaconda3\\lib\\site-packages (from requests) (1.26.9)\n",
      "Requirement already satisfied: certifi>=2017.4.17 in c:\\users\\hp\\anaconda3\\lib\\site-packages (from requests) (2023.11.17)\n",
      "Requirement already satisfied: charset-normalizer~=2.0.0 in c:\\users\\hp\\anaconda3\\lib\\site-packages (from requests) (2.0.4)\n",
      "Requirement already satisfied: idna<4,>=2.5 in c:\\users\\hp\\anaconda3\\lib\\site-packages (from requests) (3.3)\n",
      "Requirement already satisfied: soupsieve>1.2 in c:\\users\\hp\\anaconda3\\lib\\site-packages (from beautifulsoup4) (2.3.1)\n"
     ]
    }
   ],
   "source": [
    "pip install requests beautifulsoup4 lxml"
   ]
  },
  {
   "cell_type": "code",
   "execution_count": 4,
   "id": "5f50a032",
   "metadata": {},
   "outputs": [],
   "source": [
    "import requests\n",
    "from bs4 import BeautifulSoup"
   ]
  },
  {
   "cell_type": "code",
   "execution_count": 15,
   "id": "51a2cbd7",
   "metadata": {},
   "outputs": [
    {
     "name": "stdout",
     "output_type": "stream",
     "text": [
      "1. Python Thread Safety: Using a Lock and Other Techniques.\n",
      "2. Understanding Python's Global Interpreter Lock (GIL).\n",
      "3. Python's property(): Add Managed Attributes to Your Classes.\n",
      "4. Structural Pattern Matching in Python.\n",
      "5. Using Type Hints for Multiple Return Types in Python.\n",
      "6. Syntactic Sugar: Why Python Is Sweet and Pythonic.\n",
      "7. Build a Contact Book App With Python, Textual, and SQLite.\n",
      "8. What's New in Python 3.13.\n",
      "9. Python News Roundup: October 2024.\n",
      "10. A Guide to Modern Python String Formatting Tools.\n",
      "11. Differences Between Python's Mutable and Immutable Types.\n",
      "12. Python 3.13: Cool New Features for You to Try.\n",
      "13. Python 3.13 Preview: A Modern REPL.\n",
      "14. Advanced Python import Techniques.\n",
      "15. Python Virtual Environments: A Primer.\n",
      "16. Python 3.13 Preview: Free Threading and a JIT Compiler.\n",
      "17. Customizing VS Code Through Color Themes.\n",
      "18. Using Python's pip to Manage Your Projects' Dependencies.\n",
      "19. How to Use Conditional Expressions With NumPy where().\n",
      "Scraped titles saved to 'realpython_articles.txt' !!!\n"
     ]
    }
   ],
   "source": [
    "url = 'https://realpython.com/'\n",
    "response = requests.get(url)\n",
    "#POST is sending While Get is Recieving\n",
    "\n",
    "soup = BeautifulSoup(response.text, 'lxml')\n",
    "\n",
    "articles = soup.find_all('h2' , class_= 'card-title')\n",
    "for i , article in enumerate(articles, start=1):\n",
    "    title = article.get_text(strip=True)\n",
    "    print(f\"{i}. {title}.\")\n",
    "\n",
    "with open('realpython_articles.txt', 'w') as file:\n",
    "    for article in articles:\n",
    "        title= article.get_text(strip=True)\n",
    "        file.write(title + \"\\n\")\n",
    "print(\"Scraped titles saved to 'realpython_articles.txt' !!!\")\n"
   ]
  },
  {
   "cell_type": "code",
   "execution_count": null,
   "id": "276de752",
   "metadata": {},
   "outputs": [],
   "source": []
  },
  {
   "cell_type": "code",
   "execution_count": null,
   "id": "0299dacf",
   "metadata": {},
   "outputs": [],
   "source": []
  }
 ],
 "metadata": {
  "kernelspec": {
   "display_name": "Python 3 (ipykernel)",
   "language": "python",
   "name": "python3"
  },
  "language_info": {
   "codemirror_mode": {
    "name": "ipython",
    "version": 3
   },
   "file_extension": ".py",
   "mimetype": "text/x-python",
   "name": "python",
   "nbconvert_exporter": "python",
   "pygments_lexer": "ipython3",
   "version": "3.9.12"
  }
 },
 "nbformat": 4,
 "nbformat_minor": 5
}
